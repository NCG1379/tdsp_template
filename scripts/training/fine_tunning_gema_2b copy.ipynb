{
 "cells": [
  {
   "cell_type": "markdown",
   "id": "5baa9e0b",
   "metadata": {},
   "source": []
  },
  {
   "cell_type": "code",
   "execution_count": 1,
   "id": "44223784",
   "metadata": {},
   "outputs": [],
   "source": [
    "from transformers import set_seed\n",
    "\n",
    "# Random number generators seed for reproducibility (same code == same results)\n",
    "# Set the seed in random, numpy, torch and/or tensorflow if installed\n",
    "set_seed(22)"
   ]
  },
  {
   "cell_type": "code",
   "execution_count": 2,
   "id": "0f9a8d91",
   "metadata": {},
   "outputs": [],
   "source": [
    "import sys\n",
    "sys.path.append(\"./docker-python/patches\")"
   ]
  },
  {
   "cell_type": "code",
   "execution_count": 3,
   "id": "9741172d",
   "metadata": {},
   "outputs": [],
   "source": [
    "# TODO: Change to the new gemma 1.1 versions once they have been tested enough by the community\n",
    "# gemma_2b = '/kaggle/input/gemma/transformers/2b/2'\n",
    "# gemma_7b_it = '/kaggle/input/gemma/transformers/7b-it/3'\n",
    "# gemma_2b_it = '/kaggle/input/gemma/transformers/2b-it/3'\n",
    "\n",
    "# Model IDs on Hugging Face Hub\n",
    "gemma_7b = 'google/gemma-7b'\n",
    "gemma_7b_it = 'google/gemma-7b-it'\n",
    "gemma_2b_it = 'google/gemma-2b-it'\n",
    "\n",
    "# Test prompts\n",
    "prompt_1 = \"What is Data Science?\"\n",
    "prompt_2 = \"Explain 3 important Data Science concepts, and tell why each concept is important\"\n",
    "prompt_3 = \"I'm a marketing specialist, I know nothing about Data Science. Explain to me what Data Science is and simplifie it as much as you can. When possible, use analogies that I can understand better as a marketing specialist\"\n",
    "# These prompts are just a way to test our models and see how they perform depending on the complexity of the task."
   ]
  },
  {
   "cell_type": "code",
   "execution_count": null,
   "id": "008d0a97",
   "metadata": {},
   "outputs": [
    {
     "name": "stdout",
     "output_type": "stream",
     "text": [
      "4.53.0\n",
      "2.7.0+cpu\n",
      "2.18.0\n"
     ]
    }
   ],
   "source": [
    "import transformers, tensorflow\n",
    "import torch\n",
    "\n",
    "print(transformers.__version__)\n",
    "print(torch.__version__)\n",
    "print(tensorflow.__version__)"
   ]
  },
  {
   "cell_type": "code",
   "execution_count": 25,
   "id": "fa9f4763",
   "metadata": {},
   "outputs": [
    {
     "data": {
      "text/plain": [
       "True"
      ]
     },
     "execution_count": 25,
     "metadata": {},
     "output_type": "execute_result"
    }
   ],
   "source": [
    "from dotenv import load_dotenv\n",
    "from pathlib import Path\n",
    "\n",
    "dotenv_path = \".env\"\n",
    "\n",
    "load_dotenv(dotenv_path=dotenv_path)"
   ]
  },
  {
   "cell_type": "code",
   "execution_count": 26,
   "id": "9384e8bb",
   "metadata": {},
   "outputs": [],
   "source": [
    "import os\n",
    "# get your account token from https://huggingface.co/settings/tokens\n",
    "HUGGINGFACE_TOKEN = os.environ[\"HUGGINGFACE_TOKEN\"]\n",
    "\n",
    "\n",
    "# import the relavant libraries for loggin in\n",
    "from huggingface_hub import login\n",
    "\n",
    "# set api for login and save token\n",
    "login(token=HUGGINGFACE_TOKEN, add_to_git_credential=True)"
   ]
  },
  {
   "cell_type": "code",
   "execution_count": 6,
   "id": "0b628c4e",
   "metadata": {},
   "outputs": [
    {
     "name": "stderr",
     "output_type": "stream",
     "text": [
      "The installed version of bitsandbytes was compiled without GPU support. 8-bit optimizers and GPU quantization are unavailable.\n"
     ]
    },
    {
     "data": {
      "application/vnd.jupyter.widget-view+json": {
       "model_id": "41ef87dae3df4c4f9853498209e91f41",
       "version_major": 2,
       "version_minor": 0
      },
      "text/plain": [
       "Loading checkpoint shards:   0%|          | 0/2 [00:00<?, ?it/s]"
      ]
     },
     "metadata": {},
     "output_type": "display_data"
    },
    {
     "name": "stdout",
     "output_type": "stream",
     "text": [
      "trainable params: 9,805,824 || all params: 2,515,978,240 || trainable%: 0.3897\n"
     ]
    }
   ],
   "source": [
    "from transformers import AutoTokenizer, AutoModelForCausalLM, BitsAndBytesConfig\n",
    "from peft import prepare_model_for_kbit_training, LoraConfig, get_peft_model\n",
    "import torch\n",
    "\n",
    "def load_model(model_id=\"google/gemma-2b-it\", tokenizer_id=\"google/gemma-2b-it\", load_in_4bit=True, device=\"auto\", quant_compute_dtype=torch.float16, torch_dtype=None):\n",
    "    quantization_config = BitsAndBytesConfig(\n",
    "        load_in_4bit=load_in_4bit,\n",
    "        bnb_4bit_quant_type='nf4',\n",
    "        bnb_4bit_compute_dtype=quant_compute_dtype,\n",
    "    ) if load_in_4bit else None\n",
    "\n",
    "    tokenizer = AutoTokenizer.from_pretrained(tokenizer_id, cache_dir=\"tmp/model\")\n",
    "    \n",
    "    model = AutoModelForCausalLM.from_pretrained(\n",
    "        model_id,\n",
    "        quantization_config=quantization_config,\n",
    "        device_map=device,\n",
    "        torch_dtype=torch_dtype,\n",
    "    )\n",
    "\n",
    "    return tokenizer, model\n",
    "\n",
    "# Load\n",
    "coder_tokenizer, coder_model = load_model()\n",
    "\n",
    "# Prepare for training\n",
    "coder_model = prepare_model_for_kbit_training(coder_model)\n",
    "\n",
    "# LoRA config\n",
    "lora_config = LoraConfig(\n",
    "    r=8,\n",
    "    lora_alpha=8,\n",
    "    lora_dropout=0.1,\n",
    "    target_modules=[\"q_proj\", \"o_proj\", \"k_proj\", \"v_proj\", \"gate_proj\", \"up_proj\", \"down_proj\"],\n",
    "    bias=\"none\",\n",
    "    task_type=\"CAUSAL_LM\"\n",
    ")\n",
    "\n",
    "# Apply LoRA\n",
    "from peft import get_peft_model\n",
    "coder_model = get_peft_model(coder_model, lora_config)\n",
    "coder_model.print_trainable_parameters()\n"
   ]
  },
  {
   "cell_type": "code",
   "execution_count": 16,
   "id": "fc414fbe",
   "metadata": {},
   "outputs": [
    {
     "data": {
      "application/vnd.jupyter.widget-view+json": {
       "model_id": "04cdb60e8d1a45fdb1b992495f6cfcf7",
       "version_major": 2,
       "version_minor": 0
      },
      "text/plain": [
       "Map:   0%|          | 0/181 [00:00<?, ? examples/s]"
      ]
     },
     "metadata": {},
     "output_type": "display_data"
    }
   ],
   "source": [
    "from datasets import load_dataset\n",
    "\n",
    "# Step 1: Load the dataset\n",
    "dataset = load_dataset(\n",
    "    'json',\n",
    "    data_files=\"data/dataset_1.1.json\",  # Use forward slash for compatibility\n",
    "    split='train'\n",
    ")\n",
    "\n",
    "# Step 2: Filter out long sequences\n",
    "def _filter(example):\n",
    "    tokens = coder_tokenizer.apply_chat_template(example['messages'], tokenize=True)\n",
    "    return len(tokens) <= 1000  # allow space for special tokens\n",
    "\n",
    "dataset = dataset.filter(_filter)\n",
    "\n",
    "# Step 3: Shuffle and remove unnecessary columns\n",
    "dataset = dataset.shuffle(seed=1111)\n",
    "if 'lang' in dataset.column_names:\n",
    "    dataset = dataset.remove_columns(['lang'])\n",
    "\n",
    "# Step 4: Tokenize with labels\n",
    "def tokenize(example):\n",
    "    # 1. Format message using chat template\n",
    "    formatted_text = coder_tokenizer.apply_chat_template(\n",
    "        example[\"messages\"],\n",
    "        tokenize=False,  # <-- we want the formatted string\n",
    "        add_generation_prompt=False  # Optional, set to True for instruction tuning\n",
    "    )\n",
    "\n",
    "    # 2. Tokenize it to get input_ids and attention_mask\n",
    "    output = coder_tokenizer(\n",
    "        formatted_text,\n",
    "        truncation=True,\n",
    "        max_length=1024,\n",
    "        padding=\"max_length\"\n",
    "    )\n",
    "\n",
    "    # 3. Mask the padding tokens in labels\n",
    "    labels = output[\"input_ids\"].copy()\n",
    "    pad_token_id = coder_tokenizer.pad_token_id or coder_tokenizer.eos_token_id\n",
    "    labels = [-100 if token_id == pad_token_id else token_id for token_id in labels]\n",
    "\n",
    "    return {\n",
    "        \"input_ids\": output[\"input_ids\"],\n",
    "        \"attention_mask\": output[\"attention_mask\"],\n",
    "        \"labels\": labels\n",
    "    }\n",
    "\n",
    "\n",
    "\n",
    "dataset = dataset.map(tokenize, remove_columns=dataset.column_names)\n"
   ]
  },
  {
   "cell_type": "code",
   "execution_count": 17,
   "id": "55ad267e",
   "metadata": {},
   "outputs": [
    {
     "data": {
      "application/vnd.jupyter.widget-view+json": {
       "model_id": "50deffa58be34ad1aec2dcd5ee26297a",
       "version_major": 2,
       "version_minor": 0
      },
      "text/plain": [
       "Truncating train dataset:   0%|          | 0/181 [00:00<?, ? examples/s]"
      ]
     },
     "metadata": {},
     "output_type": "display_data"
    },
    {
     "name": "stderr",
     "output_type": "stream",
     "text": [
      "No label_names provided for model class `PeftModelForCausalLM`. Since `PeftModel` hides base models input arguments, if label_names is not given, label_names can't be set automatically within `Trainer`. Note that empty label_names list will be used instead.\n"
     ]
    }
   ],
   "source": [
    "from trl import SFTTrainer, SFTConfig\n",
    "from transformers import DataCollatorForSeq2Seq\n",
    "\n",
    "training_args = SFTConfig(\n",
    "    output_dir=\"model_training_outputs\",\n",
    "    per_device_train_batch_size=2,\n",
    "    gradient_accumulation_steps=4,\n",
    "    num_train_epochs=3,\n",
    "    learning_rate=2e-4,\n",
    "    weight_decay=0.01,\n",
    "    lr_scheduler_type=\"linear\",\n",
    "    optim=\"adamw_torch\",\n",
    "    fp16=True,\n",
    "    bf16=False,\n",
    "    seed=42,\n",
    "    logging_steps=10,\n",
    "    save_steps=100,\n",
    "    save_total_limit=2,\n",
    "    report_to=\"none\",\n",
    "    dataset_num_proc=1,\n",
    "    packing=False,\n",
    "    max_seq_length=1024,\n",
    ")\n",
    "\n",
    "collator = DataCollatorForSeq2Seq(tokenizer=coder_tokenizer, padding=True)\n",
    "\n",
    "# Step 5: Create trainer\n",
    "trainer = SFTTrainer(\n",
    "    model=coder_model,\n",
    "    train_dataset=dataset,\n",
    "    data_collator=collator,\n",
    "    args=training_args,\n",
    ")\n"
   ]
  },
  {
   "cell_type": "code",
   "execution_count": 18,
   "id": "c27f4dec",
   "metadata": {},
   "outputs": [
    {
     "data": {
      "text/html": [
       "\n",
       "    <div>\n",
       "      \n",
       "      <progress value='69' max='69' style='width:300px; height:20px; vertical-align: middle;'></progress>\n",
       "      [69/69 14:32:30, Epoch 3/3]\n",
       "    </div>\n",
       "    <table border=\"1\" class=\"dataframe\">\n",
       "  <thead>\n",
       " <tr style=\"text-align: left;\">\n",
       "      <th>Step</th>\n",
       "      <th>Training Loss</th>\n",
       "    </tr>\n",
       "  </thead>\n",
       "  <tbody>\n",
       "    <tr>\n",
       "      <td>10</td>\n",
       "      <td>8.323000</td>\n",
       "    </tr>\n",
       "    <tr>\n",
       "      <td>20</td>\n",
       "      <td>4.484400</td>\n",
       "    </tr>\n",
       "    <tr>\n",
       "      <td>30</td>\n",
       "      <td>3.705600</td>\n",
       "    </tr>\n",
       "    <tr>\n",
       "      <td>40</td>\n",
       "      <td>3.179600</td>\n",
       "    </tr>\n",
       "    <tr>\n",
       "      <td>50</td>\n",
       "      <td>3.233700</td>\n",
       "    </tr>\n",
       "    <tr>\n",
       "      <td>60</td>\n",
       "      <td>3.087600</td>\n",
       "    </tr>\n",
       "  </tbody>\n",
       "</table><p>"
      ],
      "text/plain": [
       "<IPython.core.display.HTML object>"
      ]
     },
     "metadata": {},
     "output_type": "display_data"
    },
    {
     "data": {
      "text/plain": [
       "TrainOutput(global_step=69, training_loss=4.161116254502448, metrics={'train_runtime': 52984.418, 'train_samples_per_second': 0.01, 'train_steps_per_second': 0.001, 'total_flos': 6644661045166080.0, 'train_loss': 4.161116254502448})"
      ]
     },
     "execution_count": 18,
     "metadata": {},
     "output_type": "execute_result"
    }
   ],
   "source": [
    "trainer.train()"
   ]
  },
  {
   "cell_type": "code",
   "execution_count": 22,
   "id": "0a82ca73",
   "metadata": {},
   "outputs": [
    {
     "data": {
      "text/plain": [
       "('trained_lora_model_tokenizer\\\\tokenizer_config.json',\n",
       " 'trained_lora_model_tokenizer\\\\special_tokens_map.json',\n",
       " 'trained_lora_model_tokenizer\\\\chat_template.jinja',\n",
       " 'trained_lora_model_tokenizer\\\\tokenizer.model',\n",
       " 'trained_lora_model_tokenizer\\\\added_tokens.json',\n",
       " 'trained_lora_model_tokenizer\\\\tokenizer.json')"
      ]
     },
     "execution_count": 22,
     "metadata": {},
     "output_type": "execute_result"
    }
   ],
   "source": [
    "# Step 7: Save model and tokenizer\n",
    "coder_model.save_pretrained(\"trained_lora_model_model\")\n",
    "coder_tokenizer.save_pretrained(\"trained_lora_model_tokenizer\")"
   ]
  },
  {
   "cell_type": "code",
   "execution_count": 23,
   "id": "de29bef4",
   "metadata": {},
   "outputs": [
    {
     "name": "stderr",
     "output_type": "stream",
     "text": [
      "d:\\03_Development\\00_Anaconda\\envs\\datascience_env_v2\\Lib\\site-packages\\peft\\tuners\\lora\\bnb.py:351: UserWarning: Merge lora module to 4-bit linear may get different generations due to rounding errors.\n",
      "  warnings.warn(\n"
     ]
    },
    {
     "data": {
      "text/plain": [
       "('merged_full_model\\\\tokenizer_config.json',\n",
       " 'merged_full_model\\\\special_tokens_map.json',\n",
       " 'merged_full_model\\\\chat_template.jinja',\n",
       " 'merged_full_model\\\\tokenizer.model',\n",
       " 'merged_full_model\\\\added_tokens.json',\n",
       " 'merged_full_model\\\\tokenizer.json')"
      ]
     },
     "execution_count": 23,
     "metadata": {},
     "output_type": "execute_result"
    }
   ],
   "source": [
    "# Merge LoRA adapters into the base model\n",
    "merged_model = coder_model.merge_and_unload()\n",
    "\n",
    "# Save merged model for inference or sharing\n",
    "merged_model.save_pretrained(\"merged_full_model\")\n",
    "coder_tokenizer.save_pretrained(\"merged_full_model\")\n"
   ]
  },
  {
   "cell_type": "code",
   "execution_count": 19,
   "id": "91769304",
   "metadata": {},
   "outputs": [
    {
     "data": {
      "text/plain": [
       "[<matplotlib.lines.Line2D at 0x25d893aefd0>]"
      ]
     },
     "execution_count": 19,
     "metadata": {},
     "output_type": "execute_result"
    },
    {
     "data": {
      "image/png": "[encoded data removed]",
      "text/plain": [
       "<Figure size 640x480 with 1 Axes>"
      ]
     },
     "metadata": {},
     "output_type": "display_data"
    }
   ],
   "source": [
    "import matplotlib.pyplot as plt\n",
    "\n",
    "loss = [log['loss'] for log in trainer.state.log_history[:-1]]\n",
    "plt.title('Training Loss')\n",
    "plt.plot(loss)"
   ]
  }
 ],
 "metadata": {
  "kernelspec": {
   "display_name": "datascience_env_v2",
   "language": "python",
   "name": "python3"
  },
  "language_info": {
   "codemirror_mode": {
    "name": "ipython",
    "version": 3
   },
   "file_extension": ".py",
   "mimetype": "text/x-python",
   "name": "python",
   "nbconvert_exporter": "python",
   "pygments_lexer": "ipython3",
   "version": "3.11.11"
  }
 },
 "nbformat": 4,
 "nbformat_minor": 5
}
